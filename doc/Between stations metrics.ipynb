{
 "cells": [
  {
   "cell_type": "code",
   "execution_count": 20,
   "metadata": {},
   "outputs": [],
   "source": [
    "from psycopg2 import connect\n",
    "import configparser\n",
    "import pandas as pd"
   ]
  },
  {
   "cell_type": "markdown",
   "metadata": {},
   "source": [
    "# Known issues\n",
    "* if train doesn't stay at the station for enough time to get a request where it's `AtStation` we miss that data\n",
    "* station to station metrics should only look at consecutive stations"
   ]
  },
  {
   "cell_type": "markdown",
   "metadata": {},
   "source": [
    "# Create connection and view sample data"
   ]
  },
  {
   "cell_type": "code",
   "execution_count": 14,
   "metadata": {},
   "outputs": [],
   "source": [
    "CONFIG = configparser.ConfigParser(interpolation=None)\n",
    "CONFIG.read('./ttc_db.cfg')\n",
    "dbset = CONFIG['DBSETTINGS']\n",
    "con = connect(**dbset)"
   ]
  },
  {
   "cell_type": "code",
   "execution_count": 16,
   "metadata": {},
   "outputs": [
    {
     "name": "stdout",
     "output_type": "stream",
     "text": [
      "[('requestid', 1), ('id', 32909720863), ('station_char', 'SHW1'), ('subwayline', 'YUS'), ('system_message_type', 'Normal'), ('timint', Decimal('0.0')), ('traindirection', 'North'), ('trainid', 132), ('train_message', 'AtStation'), ('train_dest', 'Southbound<br/> To Union')]\n"
     ]
    }
   ],
   "source": [
    "sql = '''\n",
    "SELECT *\n",
    "FROM ntas_data\n",
    "LIMIT 1\n",
    "'''\n",
    "\n",
    "with con.cursor() as cur:\n",
    "    cur.execute(sql)\n",
    "    colnames = (desc[0] for desc in cur.description)\n",
    "    values = cur.fetchone()\n",
    "    print(list(zip(colnames, values)))"
   ]
  },
  {
   "cell_type": "markdown",
   "metadata": {},
   "source": [
    "# Create materialized views"
   ]
  },
  {
   "cell_type": "markdown",
   "metadata": {},
   "source": [
    "### `arrival_time`: filters only trains that have just arrived at a station\n",
    "Columns: `subwayline`,`station_char`,`trainid`,`arrive_time`"
   ]
  },
  {
   "cell_type": "code",
   "execution_count": 17,
   "metadata": {},
   "outputs": [],
   "source": [
    "sql = '''\n",
    "DROP MATERIALIZED VIEW IF EXISTS arrival_times CASCADE; \n",
    "CREATE MATERIALIZED VIEW arrival_times AS \n",
    "WITH before_after AS (\n",
    "SELECT subwayline, station_char, trainid,\n",
    "train_message, create_date,\n",
    "LAG(train_message) OVER (PARTITION BY subwayline, station_char, trainid ORDER BY create_date) as previous_message,\n",
    "FROM ntas_data\n",
    "JOIN requests USING (requestid)\n",
    ")\n",
    "SELECT subwayline, station_char, trainid, create_date as arrive_time\n",
    "FROM before_after\n",
    "WHERE train_message = 'AtStation'\n",
    "AND previous_message = 'Arriving'\n",
    "''' \n",
    "with con:\n",
    "    with con.cursor() as cur:\n",
    "        cur.execute(sql)"
   ]
  },
  {
   "cell_type": "markdown",
   "metadata": {},
   "source": [
    "### `trip_metrics`: station to station trip metrics\n",
    "Columns: `subwayline`,`station_char`,`next_station`,`trips`,`fastest_trip`,`avg_duration`,`median_duration`\n",
    "\n",
    "Additional cleaning:\n",
    "* next station can't be the same as current one\n",
    "* duration between 10 seconds and one hour\n",
    "* combination of stations needs to show up at least 10 times"
   ]
  },
  {
   "cell_type": "code",
   "execution_count": 19,
   "metadata": {},
   "outputs": [],
   "source": [
    "sql = '''\n",
    "DROP MATERIALIZED VIEW IF EXISTS trip_metrics CASCADE; \n",
    "CREATE MATERIALIZED VIEW trip_metrics AS \n",
    "  WITH next_stations AS (\n",
    "    SELECT subwayline, station_char, trainid, arrive_time,\n",
    "    LEAD(station_char) OVER (PARTITION BY subwayline, trainid ORDER BY arrive_time) as next_station,\n",
    "    LEAD(arrive_time) OVER (PARTITION BY subwayline, trainid ORDER BY arrive_time) as next_arrival\n",
    "    FROM arrival_times\n",
    "  ), durations AS (\n",
    "    SELECT subwayline, station_char, next_station, trainid, arrive_time, EXTRACT(EPOCH FROM (next_arrival::timestamp - arrive_time::timestamp)) as duration\n",
    "    FROM next_stations\n",
    "    WHERE next_arrival IS NOT NULL\n",
    "    AND station_char <> next_station\n",
    "    AND EXTRACT(EPOCH FROM (next_arrival::timestamp - arrive_time::timestamp)) BETWEEN 10 AND 3600\n",
    ")\n",
    "  SELECT DISTINCT subwayline, station_char, next_station,\n",
    "  COUNT(1) as trips,\n",
    "  MIN(duration) as fastest_trip,\n",
    "  ROUND(AVG(duration)) as average,\n",
    "  PERCENTILE_DISC(0.5) WITHIN GROUP (ORDER BY duration) as median_duration\n",
    "  FROM durations\n",
    "  GROUP BY 1, 2, 3\n",
    "  HAVING COUNT(1) > 10\n",
    "''' \n",
    "\n",
    "with con:\n",
    "    with con.cursor() as cur:\n",
    "        cur.execute(sql)"
   ]
  },
  {
   "cell_type": "markdown",
   "metadata": {},
   "source": [
    "# Data exploration"
   ]
  },
  {
   "cell_type": "code",
   "execution_count": 24,
   "metadata": {},
   "outputs": [
    {
     "data": {
      "text/html": [
       "<div>\n",
       "<style scoped>\n",
       "    .dataframe tbody tr th:only-of-type {\n",
       "        vertical-align: middle;\n",
       "    }\n",
       "\n",
       "    .dataframe tbody tr th {\n",
       "        vertical-align: top;\n",
       "    }\n",
       "\n",
       "    .dataframe thead th {\n",
       "        text-align: right;\n",
       "    }\n",
       "</style>\n",
       "<table border=\"1\" class=\"dataframe\">\n",
       "  <thead>\n",
       "    <tr style=\"text-align: right;\">\n",
       "      <th></th>\n",
       "      <th>subwayline</th>\n",
       "      <th>station_char</th>\n",
       "      <th>next_station</th>\n",
       "      <th>trips</th>\n",
       "      <th>fastest_trip</th>\n",
       "      <th>average</th>\n",
       "      <th>median_duration</th>\n",
       "    </tr>\n",
       "  </thead>\n",
       "  <tbody>\n",
       "    <tr>\n",
       "      <th>0</th>\n",
       "      <td>BD</td>\n",
       "      <td>BAT1</td>\n",
       "      <td>BSP1</td>\n",
       "      <td>3165</td>\n",
       "      <td>11.0</td>\n",
       "      <td>67.0</td>\n",
       "      <td>59.0</td>\n",
       "    </tr>\n",
       "    <tr>\n",
       "      <th>1</th>\n",
       "      <td>YUS</td>\n",
       "      <td>STP1</td>\n",
       "      <td>OSG1</td>\n",
       "      <td>646</td>\n",
       "      <td>22.0</td>\n",
       "      <td>63.0</td>\n",
       "      <td>60.0</td>\n",
       "    </tr>\n",
       "    <tr>\n",
       "      <th>2</th>\n",
       "      <td>BD</td>\n",
       "      <td>SGL2</td>\n",
       "      <td>BSP2</td>\n",
       "      <td>4965</td>\n",
       "      <td>10.0</td>\n",
       "      <td>70.0</td>\n",
       "      <td>61.0</td>\n",
       "    </tr>\n",
       "    <tr>\n",
       "      <th>3</th>\n",
       "      <td>BD</td>\n",
       "      <td>LAN1</td>\n",
       "      <td>DUF1</td>\n",
       "      <td>2687</td>\n",
       "      <td>13.0</td>\n",
       "      <td>64.0</td>\n",
       "      <td>61.0</td>\n",
       "    </tr>\n",
       "    <tr>\n",
       "      <th>4</th>\n",
       "      <td>BD</td>\n",
       "      <td>PAP1</td>\n",
       "      <td>DON1</td>\n",
       "      <td>2907</td>\n",
       "      <td>21.0</td>\n",
       "      <td>70.0</td>\n",
       "      <td>61.0</td>\n",
       "    </tr>\n",
       "  </tbody>\n",
       "</table>\n",
       "</div>"
      ],
      "text/plain": [
       "  subwayline station_char next_station  trips  fastest_trip  average  \\\n",
       "0         BD         BAT1         BSP1   3165          11.0     67.0   \n",
       "1        YUS         STP1         OSG1    646          22.0     63.0   \n",
       "2         BD         SGL2         BSP2   4965          10.0     70.0   \n",
       "3         BD         LAN1         DUF1   2687          13.0     64.0   \n",
       "4         BD         PAP1         DON1   2907          21.0     70.0   \n",
       "\n",
       "   median_duration  \n",
       "0             59.0  \n",
       "1             60.0  \n",
       "2             61.0  \n",
       "3             61.0  \n",
       "4             61.0  "
      ]
     },
     "execution_count": 24,
     "metadata": {},
     "output_type": "execute_result"
    }
   ],
   "source": [
    "# Shortest trips\n",
    "\n",
    "sql = '''\n",
    "SELECT *\n",
    "FROM trip_metrics\n",
    "ORDER BY median_duration ASC\n",
    "LIMIT 5\n",
    "'''\n",
    "data = pd.read_sql(sql, con)\n",
    "data"
   ]
  },
  {
   "cell_type": "code",
   "execution_count": 27,
   "metadata": {},
   "outputs": [
    {
     "data": {
      "text/html": [
       "<div>\n",
       "<style scoped>\n",
       "    .dataframe tbody tr th:only-of-type {\n",
       "        vertical-align: middle;\n",
       "    }\n",
       "\n",
       "    .dataframe tbody tr th {\n",
       "        vertical-align: top;\n",
       "    }\n",
       "\n",
       "    .dataframe thead th {\n",
       "        text-align: right;\n",
       "    }\n",
       "</style>\n",
       "<table border=\"1\" class=\"dataframe\">\n",
       "  <thead>\n",
       "    <tr style=\"text-align: right;\">\n",
       "      <th></th>\n",
       "      <th>subwayline</th>\n",
       "      <th>station_char</th>\n",
       "      <th>next_station</th>\n",
       "      <th>trips</th>\n",
       "      <th>fastest_trip</th>\n",
       "      <th>average</th>\n",
       "      <th>median_duration</th>\n",
       "    </tr>\n",
       "  </thead>\n",
       "  <tbody>\n",
       "    <tr>\n",
       "      <th>0</th>\n",
       "      <td>YUS</td>\n",
       "      <td>FIN1</td>\n",
       "      <td>SHP2</td>\n",
       "      <td>1075</td>\n",
       "      <td>227.0</td>\n",
       "      <td>469.0</td>\n",
       "      <td>434.0</td>\n",
       "    </tr>\n",
       "    <tr>\n",
       "      <th>1</th>\n",
       "      <td>YUS</td>\n",
       "      <td>FIN2</td>\n",
       "      <td>SHP2</td>\n",
       "      <td>1168</td>\n",
       "      <td>177.0</td>\n",
       "      <td>461.0</td>\n",
       "      <td>422.0</td>\n",
       "    </tr>\n",
       "    <tr>\n",
       "      <th>2</th>\n",
       "      <td>BD</td>\n",
       "      <td>KEN1</td>\n",
       "      <td>WAR2</td>\n",
       "      <td>2019</td>\n",
       "      <td>175.0</td>\n",
       "      <td>448.0</td>\n",
       "      <td>420.0</td>\n",
       "    </tr>\n",
       "    <tr>\n",
       "      <th>3</th>\n",
       "      <td>YUS</td>\n",
       "      <td>CVL1</td>\n",
       "      <td>DUP1</td>\n",
       "      <td>1062</td>\n",
       "      <td>297.0</td>\n",
       "      <td>402.0</td>\n",
       "      <td>413.0</td>\n",
       "    </tr>\n",
       "    <tr>\n",
       "      <th>4</th>\n",
       "      <td>BD</td>\n",
       "      <td>KEN2</td>\n",
       "      <td>WAR2</td>\n",
       "      <td>2187</td>\n",
       "      <td>174.0</td>\n",
       "      <td>425.0</td>\n",
       "      <td>411.0</td>\n",
       "    </tr>\n",
       "  </tbody>\n",
       "</table>\n",
       "</div>"
      ],
      "text/plain": [
       "  subwayline station_char next_station  trips  fastest_trip  average  \\\n",
       "0        YUS         FIN1         SHP2   1075         227.0    469.0   \n",
       "1        YUS         FIN2         SHP2   1168         177.0    461.0   \n",
       "2         BD         KEN1         WAR2   2019         175.0    448.0   \n",
       "3        YUS         CVL1         DUP1   1062         297.0    402.0   \n",
       "4         BD         KEN2         WAR2   2187         174.0    425.0   \n",
       "\n",
       "   median_duration  \n",
       "0            434.0  \n",
       "1            422.0  \n",
       "2            420.0  \n",
       "3            413.0  \n",
       "4            411.0  "
      ]
     },
     "execution_count": 27,
     "metadata": {},
     "output_type": "execute_result"
    }
   ],
   "source": [
    "# Longest trips\n",
    "\n",
    "sql = '''\n",
    "SELECT *\n",
    "FROM trip_metrics\n",
    "WHERE trips > 1000\n",
    "ORDER BY median_duration DESC\n",
    "LIMIT 5\n",
    "'''\n",
    "data = pd.read_sql(sql, con)\n",
    "data"
   ]
  },
  {
   "cell_type": "code",
   "execution_count": null,
   "metadata": {},
   "outputs": [],
   "source": []
  }
 ],
 "metadata": {
  "kernelspec": {
   "display_name": "Python 3",
   "language": "python",
   "name": "python3"
  },
  "language_info": {
   "codemirror_mode": {
    "name": "ipython",
    "version": 3
   },
   "file_extension": ".py",
   "mimetype": "text/x-python",
   "name": "python",
   "nbconvert_exporter": "python",
   "pygments_lexer": "ipython3",
   "version": "3.6.5"
  }
 },
 "nbformat": 4,
 "nbformat_minor": 2
}
